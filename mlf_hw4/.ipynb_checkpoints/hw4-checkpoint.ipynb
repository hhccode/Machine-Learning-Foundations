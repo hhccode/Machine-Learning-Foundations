{
 "cells": [
  {
   "cell_type": "markdown",
   "metadata": {},
   "source": [
    "# 5"
   ]
  },
  {
   "cell_type": "code",
   "execution_count": 15,
   "metadata": {},
   "outputs": [],
   "source": [
    "from math import sqrt\n",
    "import numpy as np"
   ]
  },
  {
   "cell_type": "code",
   "execution_count": 20,
   "metadata": {},
   "outputs": [],
   "source": [
    "a = sqrt(sqrt(3) + 4)\n",
    "b = sqrt(sqrt(3) - 1)\n",
    "c = sqrt(9 + 4 * sqrt(6))\n",
    "d = sqrt(9 - sqrt(6))\n",
    "d = 1"
   ]
  },
  {
   "cell_type": "code",
   "execution_count": 21,
   "metadata": {},
   "outputs": [],
   "source": [
    "L1 = np.array([(1, -1, 0), (1, a, 1), (1, 1, 0)])\n",
    "L2 = np.array([(1, -1, 0), (1, b, 1), (1, 1, 0)])\n",
    "L3 = np.array([(1, -1, 0), (1, c, 1), (1, 1, 0)])\n",
    "L4 = np.array([(1, -1, 0), (1, d, 1), (1, 1, 0)])\n",
    "L_ = [L1, L2, L3, L4]"
   ]
  },
  {
   "cell_type": "code",
   "execution_count": null,
   "metadata": {},
   "outputs": [],
   "source": []
  },
  {
   "cell_type": "code",
   "execution_count": null,
   "metadata": {},
   "outputs": [],
   "source": []
  },
  {
   "cell_type": "code",
   "execution_count": null,
   "metadata": {},
   "outputs": [],
   "source": []
  },
  {
   "cell_type": "code",
   "execution_count": null,
   "metadata": {},
   "outputs": [],
   "source": []
  },
  {
   "cell_type": "code",
   "execution_count": null,
   "metadata": {},
   "outputs": [],
   "source": []
  },
  {
   "cell_type": "code",
   "execution_count": null,
   "metadata": {},
   "outputs": [],
   "source": []
  },
  {
   "cell_type": "code",
   "execution_count": null,
   "metadata": {},
   "outputs": [],
   "source": []
  },
  {
   "cell_type": "markdown",
   "metadata": {},
   "source": [
    "## Constant hypothesis"
   ]
  },
  {
   "cell_type": "code",
   "execution_count": 22,
   "metadata": {},
   "outputs": [
    {
     "name": "stdout",
     "output_type": "stream",
     "text": [
      "1.5\n",
      "1.5\n",
      "1.5\n",
      "1.5\n"
     ]
    }
   ],
   "source": [
    "for L in L_:\n",
    "    e = 0\n",
    "    \n",
    "    for i in range(3):\n",
    "\n",
    "        val = L[i]\n",
    "        \n",
    "        train = np.empty((0, 3))\n",
    "\n",
    "        for j in range(3):\n",
    "            if j != i:\n",
    "                train = np.vstack((train, L[j]))\n",
    "        \n",
    "        \n",
    "        b = (train[0][2] + train[1][2]) / 2\n",
    "        e += pow(b - val[2], 2)\n",
    "    \n",
    "    print(e)"
   ]
  },
  {
   "cell_type": "markdown",
   "metadata": {},
   "source": [
    "## Linear hypothesis"
   ]
  },
  {
   "cell_type": "code",
   "execution_count": 31,
   "metadata": {},
   "outputs": [
    {
     "name": "stdout",
     "output_type": "stream",
     "text": [
      "[[-0.71727255  1.71727255]\n",
      " [ 0.71727255 -0.71727255]]\n",
      "w [[-0.71727255]] [[0.71727255]]\n",
      "val 1.0 -1.0\n",
      "dpt [[-1.43454511]]\n",
      "e [[2.05791967]]\n",
      "[[ 0.5  0.5]\n",
      " [-0.5  0.5]]\n",
      "w [[0.]] [[0.]]\n",
      "val 1.0 2.3941701709713277\n",
      "dpt [[0.]]\n",
      "e [[3.05791967]]\n",
      "[[ 0.70537718  0.29462282]\n",
      " [-0.29462282  0.29462282]]\n",
      "w [[0.29462282]] [[0.29462282]]\n",
      "val 1.0 1.0\n",
      "dpt [[0.58924565]]\n",
      "e [[3.4051301]]\n",
      "[[3.4051301]]\n",
      "[[ 6.92519227 -5.92519227]\n",
      " [-6.92519227  6.92519227]]\n",
      "w [[6.92519227]] [[-6.92519227]]\n",
      "val 1.0 -1.0\n",
      "dpt [[13.85038455]]\n",
      "e [[191.83315211]]\n",
      "[[ 0.5  0.5]\n",
      " [-0.5  0.5]]\n",
      "w [[0.]] [[0.]]\n",
      "val 1.0 0.8555996771673521\n",
      "dpt [[0.]]\n",
      "e [[192.83315211]]\n",
      "[[ 0.46109066  0.53890934]\n",
      " [-0.53890934  0.53890934]]\n",
      "w [[0.53890934]] [[0.53890934]]\n",
      "val 1.0 1.0\n",
      "dpt [[1.07781868]]\n",
      "e [[193.99484522]]\n",
      "[[193.99484522]]\n",
      "[[-0.29979063  1.29979063]\n",
      " [ 0.29979063 -0.29979063]]\n",
      "w [[-0.29979063]] [[0.29979063]]\n",
      "val 1.0 -1.0\n",
      "dpt [[-0.59958126]]\n",
      "e [[0.35949768]]\n",
      "[[ 0.5  0.5]\n",
      " [-0.5  0.5]]\n",
      "w [[0.]] [[0.]]\n",
      "val 1.0 4.335661307243996\n",
      "dpt [[0.]]\n",
      "e [[1.35949768]]\n",
      "[[ 0.81258181  0.18741819]\n",
      " [-0.18741819  0.18741819]]\n",
      "w [[0.18741819]] [[0.18741819]]\n",
      "val 1.0 1.0\n",
      "dpt [[0.37483639]]\n",
      "e [[1.5]]\n",
      "[[1.5]]\n",
      "[[0.25 0.25]\n",
      " [0.25 0.25]]\n",
      "w [[0.25]] [[0.25]]\n",
      "val 1 -1\n",
      "dpt [[8.32667268e-17]]\n",
      "e [[6.9333478e-33]]\n",
      "[[ 0.5  0.5]\n",
      " [-0.5  0.5]]\n",
      "w [[0.]] [[0.]]\n",
      "val 1 1\n",
      "dpt [[0.]]\n",
      "e [[1.]]\n",
      "[[ 0.5  0.5]\n",
      " [-0.5  0.5]]\n",
      "w [[0.5]] [[0.5]]\n",
      "val 1 1\n",
      "dpt [[1.]]\n",
      "e [[2.]]\n",
      "[[2.]]\n"
     ]
    }
   ],
   "source": [
    "for L in L_:\n",
    "    e = 0\n",
    "    \n",
    "    for i in range(3):\n",
    "\n",
    "        val = L[i]\n",
    "        train = np.empty((0, 3))\n",
    "\n",
    "        for j in range(3):\n",
    "            if j != i:\n",
    "                train = np.vstack((train, L[j]))\n",
    "        \n",
    "        \n",
    "        train_pinv = np.linalg.pinv(np.asmatrix(train[:,0:2]))\n",
    "        print(train_pinv)\n",
    "        w = train_pinv * np.asmatrix(train[:,2]).transpose()\n",
    "        print(\"w\", w[0][0], w[1][0])\n",
    "        print(\"val\", val[0], val[1])\n",
    "        dot = w[0][0]*val[0] + w[1][0]*val[1]\n",
    "        print(\"dpt\",dot)\n",
    "        e += pow(dot - val[2], 2)\n",
    "        print(\"e\", e)\n",
    "\n",
    "    print(e)"
   ]
  },
  {
   "cell_type": "code",
   "execution_count": 6,
   "metadata": {},
   "outputs": [],
   "source": [
    "def cal(x):\n",
    "    return 1 + pow((-2 / (x-1)), 2) + pow((2 / (x+1)), 2)"
   ]
  },
  {
   "cell_type": "code",
   "execution_count": 8,
   "metadata": {},
   "outputs": [
    {
     "name": "stdout",
     "output_type": "stream",
     "text": [
      "1.5\n"
     ]
    }
   ],
   "source": [
    "print(cal(c))"
   ]
  },
  {
   "cell_type": "code",
   "execution_count": null,
   "metadata": {},
   "outputs": [],
   "source": []
  },
  {
   "cell_type": "code",
   "execution_count": null,
   "metadata": {},
   "outputs": [],
   "source": []
  },
  {
   "cell_type": "code",
   "execution_count": null,
   "metadata": {},
   "outputs": [],
   "source": []
  },
  {
   "cell_type": "code",
   "execution_count": null,
   "metadata": {},
   "outputs": [],
   "source": []
  },
  {
   "cell_type": "code",
   "execution_count": null,
   "metadata": {},
   "outputs": [],
   "source": []
  },
  {
   "cell_type": "code",
   "execution_count": null,
   "metadata": {},
   "outputs": [],
   "source": []
  },
  {
   "cell_type": "code",
   "execution_count": null,
   "metadata": {},
   "outputs": [],
   "source": []
  },
  {
   "cell_type": "code",
   "execution_count": null,
   "metadata": {},
   "outputs": [],
   "source": []
  },
  {
   "cell_type": "code",
   "execution_count": null,
   "metadata": {},
   "outputs": [],
   "source": []
  },
  {
   "cell_type": "code",
   "execution_count": null,
   "metadata": {},
   "outputs": [],
   "source": []
  },
  {
   "cell_type": "markdown",
   "metadata": {},
   "source": [
    "# 13"
   ]
  },
  {
   "cell_type": "code",
   "execution_count": 1,
   "metadata": {},
   "outputs": [],
   "source": [
    "import numpy as np\n",
    "import math\n",
    "from numpy.linalg import inv"
   ]
  },
  {
   "cell_type": "markdown",
   "metadata": {},
   "source": [
    "## Data collecting"
   ]
  },
  {
   "cell_type": "code",
   "execution_count": 2,
   "metadata": {},
   "outputs": [],
   "source": [
    "train_file = open(\"hw4_train.dat\", \"r\")\n",
    "xs = []\n",
    "ys = []\n",
    "\n",
    "for line in train_file:\n",
    "    line = line.split()\n",
    "    \n",
    "    x1 = float(line[0])\n",
    "    x2 = float(line[1])\n",
    "    x = [1, x1, x2]\n",
    "    y = [int(line[2])]\n",
    "    \n",
    "    xs.append(x)\n",
    "    ys.append(y)\n",
    "    \n",
    "\n",
    "train_x = np.mat(xs)\n",
    "train_y = np.mat(ys)\n",
    "\n",
    "\n",
    "test_file = open(\"hw4_test.dat\", \"r\")\n",
    "xs = []\n",
    "ys = []\n",
    "\n",
    "for line in test_file:\n",
    "    line = line.split()\n",
    "    \n",
    "    x1 = float(line[0])\n",
    "    x2 = float(line[1])\n",
    "    x = [1, x1, x2]\n",
    "    y = [int(line[2])]\n",
    "    \n",
    "    xs.append(x)\n",
    "    ys.append(y)\n",
    "    \n",
    "\n",
    "test_x = np.mat(xs)\n",
    "test_y = np.mat(ys)"
   ]
  },
  {
   "cell_type": "code",
   "execution_count": 3,
   "metadata": {},
   "outputs": [],
   "source": [
    "lambda_ = 10\n",
    "N = train_x.shape[0]"
   ]
  },
  {
   "cell_type": "code",
   "execution_count": 4,
   "metadata": {},
   "outputs": [
    {
     "name": "stdout",
     "output_type": "stream",
     "text": [
      "[[-0.93238149]\n",
      " [ 1.04618645]\n",
      " [ 1.046171  ]]\n"
     ]
    }
   ],
   "source": [
    "w_reg = inv(train_x.transpose() * train_x + lambda_ * np.asmatrix(np.identity(train_x.shape[1]))) * train_x.transpose() * train_y\n",
    "print(w_reg)"
   ]
  },
  {
   "cell_type": "markdown",
   "metadata": {},
   "source": [
    "## Ein"
   ]
  },
  {
   "cell_type": "code",
   "execution_count": 5,
   "metadata": {},
   "outputs": [],
   "source": [
    "def sign(x):\n",
    "    if x > 0:\n",
    "        return 1\n",
    "    else:\n",
    "        return -1"
   ]
  },
  {
   "cell_type": "code",
   "execution_count": 6,
   "metadata": {},
   "outputs": [
    {
     "name": "stdout",
     "output_type": "stream",
     "text": [
      "Ein =  0.05\n"
     ]
    }
   ],
   "source": [
    "error = 0\n",
    "\n",
    "for i in range(N):\n",
    "    if sign(train_x[i] * w_reg) != sign(train_y[i]):\n",
    "        error += 1\n",
    "\n",
    "Ein = error / N\n",
    "print(\"Ein = \", Ein)"
   ]
  },
  {
   "cell_type": "markdown",
   "metadata": {},
   "source": [
    "## Eout"
   ]
  },
  {
   "cell_type": "code",
   "execution_count": 7,
   "metadata": {},
   "outputs": [],
   "source": [
    "N = test_x.shape[0]"
   ]
  },
  {
   "cell_type": "code",
   "execution_count": 8,
   "metadata": {},
   "outputs": [
    {
     "name": "stdout",
     "output_type": "stream",
     "text": [
      "Eout =  0.045\n"
     ]
    }
   ],
   "source": [
    "error = 0\n",
    "\n",
    "for i in range(N):\n",
    "    if sign(test_x[i] * w_reg) != sign(test_y[i]):\n",
    "        error += 1\n",
    "\n",
    "Eout = error / N\n",
    "print(\"Eout = \", Eout)\n"
   ]
  },
  {
   "cell_type": "markdown",
   "metadata": {},
   "source": [
    "# 14"
   ]
  },
  {
   "cell_type": "code",
   "execution_count": 9,
   "metadata": {},
   "outputs": [],
   "source": [
    "lambda_ = [pow(10,i) for i in range(-10, 3)]\n",
    "N = train_x.shape[0]"
   ]
  },
  {
   "cell_type": "markdown",
   "metadata": {},
   "source": [
    "## Ein"
   ]
  },
  {
   "cell_type": "code",
   "execution_count": 10,
   "metadata": {},
   "outputs": [
    {
     "name": "stdout",
     "output_type": "stream",
     "text": [
      "log10 =  -8.0\n",
      "Ein =  0.015\n"
     ]
    }
   ],
   "source": [
    "min_err = N\n",
    "min_lamb = None\n",
    "\n",
    "for lamb in lambda_:\n",
    "    error = 0\n",
    "    \n",
    "    w_reg = inv(train_x.transpose() * train_x + lamb * np.asmatrix(np.identity(train_x.shape[1]))) * train_x.transpose() * train_y\n",
    "    for i in range(N):\n",
    "        if sign(train_x[i] * w_reg) != sign(train_y[i]):\n",
    "            error += 1\n",
    "    \n",
    "    if error <= min_err:\n",
    "        min_err = error\n",
    "        min_lamb = lamb\n",
    "\n",
    "print(\"log10 = \", math.log(min_lamb, 10))\n",
    "\n",
    "Ein = min_err / N\n",
    "print(\"Ein = \", Ein)"
   ]
  },
  {
   "cell_type": "markdown",
   "metadata": {},
   "source": [
    "## Eout"
   ]
  },
  {
   "cell_type": "code",
   "execution_count": 11,
   "metadata": {},
   "outputs": [],
   "source": [
    "N = test_x.shape[0]"
   ]
  },
  {
   "cell_type": "code",
   "execution_count": 12,
   "metadata": {},
   "outputs": [
    {
     "name": "stdout",
     "output_type": "stream",
     "text": [
      "Eout =  0.02\n"
     ]
    }
   ],
   "source": [
    "error = 0\n",
    "\n",
    "w_reg = inv(train_x.transpose() * train_x + min_lamb * np.asmatrix(np.identity(train_x.shape[1]))) * train_x.transpose() * train_y\n",
    "for i in range(N):\n",
    "    if sign(test_x[i] * w_reg) != sign(test_y[i]):\n",
    "        error += 1\n",
    "\n",
    "Eout = error / N\n",
    "print(\"Eout = \", Eout)"
   ]
  },
  {
   "cell_type": "markdown",
   "metadata": {},
   "source": [
    "# 15"
   ]
  },
  {
   "cell_type": "code",
   "execution_count": 13,
   "metadata": {},
   "outputs": [],
   "source": [
    "N = test_x.shape[0]"
   ]
  },
  {
   "cell_type": "markdown",
   "metadata": {},
   "source": [
    "## Eout"
   ]
  },
  {
   "cell_type": "code",
   "execution_count": 14,
   "metadata": {},
   "outputs": [
    {
     "name": "stdout",
     "output_type": "stream",
     "text": [
      "log10 =  -7.0\n",
      "Eout =  0.015\n"
     ]
    }
   ],
   "source": [
    "min_err = N\n",
    "min_lamb = None\n",
    "\n",
    "for lamb in lambda_:\n",
    "    error = 0\n",
    "    \n",
    "    w_reg = inv(train_x.transpose() * train_x + lamb * np.asmatrix(np.identity(train_x.shape[1]))) * train_x.transpose() * train_y\n",
    "    for i in range(N):\n",
    "        if sign(test_x[i] * w_reg) != sign(test_y[i]):\n",
    "            error += 1\n",
    "    \n",
    "    if error <= min_err:\n",
    "        min_err = error\n",
    "        min_lamb = lamb\n",
    "\n",
    "print(\"log10 = \", math.log(min_lamb, 10))\n",
    "\n",
    "Eout = min_err / N\n",
    "print(\"Eout = \", Eout)"
   ]
  },
  {
   "cell_type": "markdown",
   "metadata": {},
   "source": [
    "## Ein"
   ]
  },
  {
   "cell_type": "code",
   "execution_count": 15,
   "metadata": {},
   "outputs": [],
   "source": [
    "N = train_x.shape[0]"
   ]
  },
  {
   "cell_type": "code",
   "execution_count": 16,
   "metadata": {},
   "outputs": [
    {
     "name": "stdout",
     "output_type": "stream",
     "text": [
      "Ein =  0.03\n"
     ]
    }
   ],
   "source": [
    "error = 0\n",
    "\n",
    "w_reg = inv(train_x.transpose() * train_x + min_lamb * np.asmatrix(np.identity(train_x.shape[1]))) * train_x.transpose() * train_y\n",
    "for i in range(N):\n",
    "    if sign(train_x[i] * w_reg) != sign(train_y[i]):\n",
    "        error += 1\n",
    "\n",
    "Ein = error / N\n",
    "print(\"Ein = \", Ein)"
   ]
  },
  {
   "cell_type": "markdown",
   "metadata": {},
   "source": [
    "# 16"
   ]
  },
  {
   "cell_type": "markdown",
   "metadata": {},
   "source": [
    "## Data splitting"
   ]
  },
  {
   "cell_type": "code",
   "execution_count": 17,
   "metadata": {},
   "outputs": [],
   "source": [
    "val_x = train_x[120:N]\n",
    "val_y = train_y[120:N]\n",
    "train_x = train_x[0:120]\n",
    "train_y = train_y[0:120]\n",
    "\n",
    "N = train_x.shape[0]"
   ]
  },
  {
   "cell_type": "markdown",
   "metadata": {},
   "source": [
    "## Etrain"
   ]
  },
  {
   "cell_type": "code",
   "execution_count": 18,
   "metadata": {},
   "outputs": [
    {
     "name": "stdout",
     "output_type": "stream",
     "text": [
      "log10 =  -8.0\n",
      "Etrain =  0.0\n"
     ]
    }
   ],
   "source": [
    "min_err = N\n",
    "min_lamb = None\n",
    "\n",
    "for lamb in lambda_:\n",
    "    error = 0\n",
    "    \n",
    "    w_reg = inv(train_x.transpose() * train_x + lamb * np.asmatrix(np.identity(train_x.shape[1]))) * train_x.transpose() * train_y\n",
    "    for i in range(N):\n",
    "        if sign(train_x[i] * w_reg) != sign(train_y[i]):\n",
    "            error += 1\n",
    "    \n",
    "    if error <= min_err:\n",
    "        min_err = error\n",
    "        min_lamb = lamb\n",
    "\n",
    "print(\"log10 = \", math.log(min_lamb, 10))\n",
    "\n",
    "Etrain = min_err / N\n",
    "print(\"Etrain = \", Etrain)"
   ]
  },
  {
   "cell_type": "markdown",
   "metadata": {},
   "source": [
    "## Eval"
   ]
  },
  {
   "cell_type": "code",
   "execution_count": 19,
   "metadata": {},
   "outputs": [],
   "source": [
    "N = val_x.shape[0]"
   ]
  },
  {
   "cell_type": "code",
   "execution_count": 20,
   "metadata": {},
   "outputs": [
    {
     "name": "stdout",
     "output_type": "stream",
     "text": [
      "Eval =  0.05\n"
     ]
    }
   ],
   "source": [
    "error = 0\n",
    "\n",
    "w_reg = inv(train_x.transpose() * train_x + min_lamb * np.asmatrix(np.identity(train_x.shape[1]))) * train_x.transpose() * train_y\n",
    "for i in range(N):\n",
    "    if sign(val_x[i] * w_reg) != sign(val_y[i]):\n",
    "        error += 1\n",
    "\n",
    "Eval = error / N\n",
    "print(\"Eval = \", Eval)"
   ]
  },
  {
   "cell_type": "markdown",
   "metadata": {},
   "source": [
    "## Eout"
   ]
  },
  {
   "cell_type": "code",
   "execution_count": 21,
   "metadata": {},
   "outputs": [],
   "source": [
    "N = test_x.shape[0]"
   ]
  },
  {
   "cell_type": "code",
   "execution_count": 22,
   "metadata": {},
   "outputs": [
    {
     "name": "stdout",
     "output_type": "stream",
     "text": [
      "Eout =  0.025\n"
     ]
    }
   ],
   "source": [
    "error = 0\n",
    "\n",
    "w_reg = inv(train_x.transpose() * train_x + min_lamb * np.asmatrix(np.identity(train_x.shape[1]))) * train_x.transpose() * train_y\n",
    "for i in range(N):\n",
    "    if sign(test_x[i] * w_reg) != sign(test_y[i]):\n",
    "        error += 1\n",
    "\n",
    "Eout = error / N\n",
    "print(\"Eout = \", Eout)"
   ]
  },
  {
   "cell_type": "markdown",
   "metadata": {},
   "source": [
    "# 17"
   ]
  },
  {
   "cell_type": "markdown",
   "metadata": {},
   "source": [
    "## Eval"
   ]
  },
  {
   "cell_type": "code",
   "execution_count": 23,
   "metadata": {},
   "outputs": [],
   "source": [
    "N = val_x.shape[0]"
   ]
  },
  {
   "cell_type": "code",
   "execution_count": 24,
   "metadata": {},
   "outputs": [
    {
     "name": "stdout",
     "output_type": "stream",
     "text": [
      "log10 =  0.0\n",
      "Eval =  0.0375\n"
     ]
    }
   ],
   "source": [
    "min_err = N\n",
    "min_lamb = None\n",
    "\n",
    "for lamb in lambda_:\n",
    "    error = 0\n",
    "    \n",
    "    w_reg = inv(train_x.transpose() * train_x + lamb * np.asmatrix(np.identity(train_x.shape[1]))) * train_x.transpose() * train_y\n",
    "    for i in range(N):\n",
    "        if sign(val_x[i] * w_reg) != sign(val_y[i]):\n",
    "            error += 1\n",
    "    \n",
    "    if error <= min_err:\n",
    "        min_err = error\n",
    "        min_lamb = lamb\n",
    "\n",
    "print(\"log10 = \", math.log(min_lamb, 10))\n",
    "\n",
    "Eval = min_err / N\n",
    "print(\"Eval = \", Eval)"
   ]
  },
  {
   "cell_type": "markdown",
   "metadata": {},
   "source": [
    "## Etrain"
   ]
  },
  {
   "cell_type": "code",
   "execution_count": 25,
   "metadata": {},
   "outputs": [],
   "source": [
    "N = train_x.shape[0]"
   ]
  },
  {
   "cell_type": "code",
   "execution_count": 26,
   "metadata": {},
   "outputs": [
    {
     "name": "stdout",
     "output_type": "stream",
     "text": [
      "Etrain =  0.03333333333333333\n"
     ]
    }
   ],
   "source": [
    "error = 0\n",
    "\n",
    "w_reg = inv(train_x.transpose() * train_x + min_lamb * np.asmatrix(np.identity(train_x.shape[1]))) * train_x.transpose() * train_y\n",
    "for i in range(N):\n",
    "    if sign(train_x[i] * w_reg) != sign(train_y[i]):\n",
    "        error += 1\n",
    "\n",
    "Etrain = error / N\n",
    "print(\"Etrain = \", Etrain)"
   ]
  },
  {
   "cell_type": "markdown",
   "metadata": {},
   "source": [
    "## Eout"
   ]
  },
  {
   "cell_type": "code",
   "execution_count": 27,
   "metadata": {},
   "outputs": [],
   "source": [
    "N = test_x.shape[0]"
   ]
  },
  {
   "cell_type": "code",
   "execution_count": 28,
   "metadata": {},
   "outputs": [
    {
     "name": "stdout",
     "output_type": "stream",
     "text": [
      "Eout =  0.028\n"
     ]
    }
   ],
   "source": [
    "error = 0\n",
    "\n",
    "w_reg = inv(train_x.transpose() * train_x + min_lamb * np.asmatrix(np.identity(train_x.shape[1]))) * train_x.transpose() * train_y\n",
    "for i in range(N):\n",
    "    if sign(test_x[i] * w_reg) != sign(test_y[i]):\n",
    "        error += 1\n",
    "\n",
    "Eout = error / N\n",
    "print(\"Eout = \", Eout)"
   ]
  },
  {
   "cell_type": "markdown",
   "metadata": {},
   "source": [
    "# 18"
   ]
  },
  {
   "cell_type": "markdown",
   "metadata": {},
   "source": [
    "## Data concatenating"
   ]
  },
  {
   "cell_type": "code",
   "execution_count": 29,
   "metadata": {},
   "outputs": [],
   "source": [
    "train_x = np.vstack((train_x, val_x))\n",
    "train_y = np.vstack((train_y, val_y))\n",
    "\n",
    "N = train_x.shape[0]"
   ]
  },
  {
   "cell_type": "markdown",
   "metadata": {},
   "source": [
    "## Ein"
   ]
  },
  {
   "cell_type": "code",
   "execution_count": 30,
   "metadata": {},
   "outputs": [
    {
     "name": "stdout",
     "output_type": "stream",
     "text": [
      "Ein =  0.035\n"
     ]
    }
   ],
   "source": [
    "error = 0\n",
    "\n",
    "w_reg = inv(train_x.transpose() * train_x + min_lamb * np.asmatrix(np.identity(train_x.shape[1]))) * train_x.transpose() * train_y\n",
    "for i in range(N):\n",
    "    if sign(train_x[i] * w_reg) != sign(train_y[i]):\n",
    "        error += 1\n",
    "\n",
    "Ein = error / N\n",
    "print(\"Ein = \", Ein)"
   ]
  },
  {
   "cell_type": "markdown",
   "metadata": {},
   "source": [
    "# 19"
   ]
  },
  {
   "cell_type": "markdown",
   "metadata": {},
   "source": [
    "## Data splitting"
   ]
  },
  {
   "cell_type": "code",
   "execution_count": 31,
   "metadata": {},
   "outputs": [],
   "source": [
    "xs = []\n",
    "ys = []\n",
    "size = int(N / 5)\n",
    "\n",
    "for i in range(5):\n",
    "    xs.append(train_x[size*i:size*(i+1)])\n",
    "    ys.append(train_y[size*i:size*(i+1)])\n",
    "\n",
    "N = xs[0].shape[0]"
   ]
  },
  {
   "cell_type": "markdown",
   "metadata": {},
   "source": [
    "## Ecv"
   ]
  },
  {
   "cell_type": "code",
   "execution_count": 36,
   "metadata": {},
   "outputs": [
    {
     "name": "stdout",
     "output_type": "stream",
     "text": [
      "log10 =  -8.0\n",
      "Ecv =  0.29\n"
     ]
    }
   ],
   "source": [
    "min_err = N\n",
    "min_lamb = None\n",
    "\n",
    "for lamb in lambda_:\n",
    "    error = 0\n",
    "    \n",
    "    for val in range(5):\n",
    "        \n",
    "        train_x = np.empty((0, 3))\n",
    "        train_y = np.empty((0, 1))\n",
    "        val_x = xs[val]\n",
    "        val_y = ys[val]\n",
    "        \n",
    "        for i in range(5):\n",
    "            if i != val:\n",
    "                train_x = np.vstack((train_x, xs[i]))\n",
    "                train_y = np.vstack((train_y, ys[i]))\n",
    "        \n",
    "        \n",
    "        w_reg = inv(train_x.transpose() * train_x + lamb * np.asmatrix(np.identity(train_x.shape[1]))) * train_x.transpose() * train_y\n",
    "        for i in range(N):\n",
    "            if sign(val_x[i] * w_reg) != sign(val_y[i]):\n",
    "                error += 1\n",
    "    \n",
    "    if error <= min_err:\n",
    "        min_err = error\n",
    "        min_lamb = lamb\n",
    "        \n",
    "print(\"log10 = \", math.log(min_lamb, 10))\n",
    "        \n",
    "\n",
    "Ecv = error / N / 5\n",
    "print(\"Ecv = \", Ecv)"
   ]
  },
  {
   "cell_type": "markdown",
   "metadata": {},
   "source": [
    "# 20"
   ]
  },
  {
   "cell_type": "markdown",
   "metadata": {},
   "source": [
    "## Data concatenating"
   ]
  },
  {
   "cell_type": "code",
   "execution_count": 37,
   "metadata": {},
   "outputs": [
    {
     "name": "stdout",
     "output_type": "stream",
     "text": [
      "(200, 3)\n"
     ]
    }
   ],
   "source": [
    "train_x = np.empty((0, 3))\n",
    "train_y = np.empty((0, 1))\n",
    "\n",
    "for i in range(5):\n",
    "    train_x = np.vstack((train_x, xs[i]))\n",
    "    train_y = np.vstack((train_y, ys[i]))\n",
    "\n",
    "N = train_x.shape[0]"
   ]
  },
  {
   "cell_type": "markdown",
   "metadata": {},
   "source": [
    "## Ein"
   ]
  },
  {
   "cell_type": "code",
   "execution_count": null,
   "metadata": {},
   "outputs": [],
   "source": [
    "error = 0\n",
    "\n",
    "w_reg = inv(train_x.transpose() * train_x + min_lamb * np.asmatrix(np.identity(train_x.shape[1]))) * train_x.transpose() * train_y\n",
    "for i in range(N):\n",
    "    if sign(train_x[i] * w_reg) != sign(train_y[i]):\n",
    "        error += 1\n",
    "\n",
    "Ein = error / N\n",
    "print(\"Ein = \", Ein)"
   ]
  },
  {
   "cell_type": "markdown",
   "metadata": {},
   "source": [
    "## Eout"
   ]
  },
  {
   "cell_type": "code",
   "execution_count": null,
   "metadata": {},
   "outputs": [],
   "source": []
  },
  {
   "cell_type": "code",
   "execution_count": null,
   "metadata": {},
   "outputs": [],
   "source": []
  },
  {
   "cell_type": "code",
   "execution_count": null,
   "metadata": {},
   "outputs": [],
   "source": []
  },
  {
   "cell_type": "code",
   "execution_count": null,
   "metadata": {},
   "outputs": [],
   "source": []
  }
 ],
 "metadata": {
  "kernelspec": {
   "display_name": "Python 3",
   "language": "python",
   "name": "python3"
  },
  "language_info": {
   "codemirror_mode": {
    "name": "ipython",
    "version": 3
   },
   "file_extension": ".py",
   "mimetype": "text/x-python",
   "name": "python",
   "nbconvert_exporter": "python",
   "pygments_lexer": "ipython3",
   "version": "3.6.5"
  }
 },
 "nbformat": 4,
 "nbformat_minor": 2
}
